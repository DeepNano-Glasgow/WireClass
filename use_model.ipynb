{
 "cells": [
  {
   "cell_type": "code",
   "execution_count": null,
   "metadata": {},
   "outputs": [],
   "source": [
    "import torch\n",
    "import torch.nn.functional as F\n",
    "import torchvision.transforms as T\n",
    "from ML import Net\n",
    "import cv2\n",
    "import matplotlib.pyplot as plt\n"
   ]
  },
  {
   "cell_type": "code",
   "execution_count": null,
   "metadata": {},
   "outputs": [],
   "source": [
    "net = Net()\n",
    "net.load_state_dict(torch.load(\"model_07_25.ebr\"))\n",
    "net.eval()\n",
    "mapping = ['Parasitic', 'Wire_Straight_Defect', 'Wire_Straight_Perfect' , 'Wire_Tilted_Defect', 'Wire_Tilted_Perfect', 'Null']"
   ]
  },
  {
   "cell_type": "code",
   "execution_count": null,
   "metadata": {},
   "outputs": [],
   "source": [
    "def tensor_generator(path):\n",
    "    image_loaded = cv2.imread(path, cv2.IMREAD_GRAYSCALE)\n",
    "    transform = T.Compose([T.ToPILImage(), T.Resize((178,55)), T.ToTensor()])\n",
    "    image = transform(image_loaded).unsqueeze(0)\n",
    "\n",
    "    return image"
   ]
  },
  {
   "cell_type": "code",
   "execution_count": null,
   "metadata": {},
   "outputs": [],
   "source": [
    "image_path = \"\"\n",
    "\n",
    "pred = net(tensor_generator(image_path))\n",
    "probs = F.softmax(pred, dim=1)\n",
    "\n",
    "\n",
    "guess = torch.argmax(probs).item()\n",
    "a = mapping[guess]\n",
    "print(f\"Best guess: {mapping[guess]}\")\n",
    "plt.imshow(cv2.imread(image_path), cmap='Greys_r')\n",
    "plt.show()"
   ]
  }
 ],
 "metadata": {
  "kernelspec": {
   "display_name": "py37",
   "language": "python",
   "name": "python3"
  },
  "language_info": {
   "codemirror_mode": {
    "name": "ipython",
    "version": 3
   },
   "file_extension": ".py",
   "mimetype": "text/x-python",
   "name": "python",
   "nbconvert_exporter": "python",
   "pygments_lexer": "ipython3",
   "version": "3.7.16"
  },
  "orig_nbformat": 4
 },
 "nbformat": 4,
 "nbformat_minor": 2
}
